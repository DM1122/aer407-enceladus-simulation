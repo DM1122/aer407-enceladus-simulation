{
 "cells": [
  {
   "cell_type": "markdown",
   "metadata": {},
   "source": [
    "# Lander Fuel Operations Analysis\n",
    "Across lander operations"
   ]
  },
  {
   "cell_type": "code",
   "execution_count": 19,
   "metadata": {},
   "outputs": [],
   "source": [
    "import pandas as pd\n",
    "import numpy as np\n",
    "from astropy import units as u\n",
    "import astropy.constants as const\n",
    "from main import orbit_equations, hop_equations"
   ]
  },
  {
   "cell_type": "code",
   "execution_count": 20,
   "metadata": {},
   "outputs": [],
   "source": [
    "# constants\n",
    "R = 252.1 * u.km    # radius of Enceladus\n",
    "M = 1.080318e20 * u.kg  # mass of \n",
    "g = 0.113 * u.m/(u.s**2)\n",
    "altitude = 250 * u.km # orbit altitude"
   ]
  },
  {
   "cell_type": "markdown",
   "metadata": {},
   "source": [
    "## Orbit Ascent/Descent"
   ]
  },
  {
   "cell_type": "code",
   "execution_count": 21,
   "metadata": {},
   "outputs": [
    {
     "data": {
      "text/latex": [
       "$119.33533 \\; \\mathrm{\\frac{m}{s}}$"
      ],
      "text/plain": [
       "<Quantity 119.33533099 m / s>"
      ]
     },
     "execution_count": 21,
     "metadata": {},
     "output_type": "execute_result"
    }
   ],
   "source": [
    "delta_v_orbit = orbit_equations.orbit_delta_v(mass=M, radius=R, altitude=altitude)\n",
    "delta_v_orbit"
   ]
  },
  {
   "cell_type": "markdown",
   "metadata": {},
   "source": [
    "## Hop (Geyser-to-Geyser)"
   ]
  },
  {
   "cell_type": "code",
   "execution_count": 22,
   "metadata": {},
   "outputs": [
    {
     "name": "stdout",
     "output_type": "stream",
     "text": [
      "Launch Velocity: 23.652739412101493 m / s\n",
      "Required Delta-V: 47.305478824202986 m / s\n",
      "0.14013796366780262\n",
      "Launch Angle: 44.715902823079226 deg\n",
      "Max Height: 1243.8019102883138 m\n"
     ]
    }
   ],
   "source": [
    "geyser_distance = 5 * u.km\n",
    "\n",
    "v0 = hop_equations.launch_velocity_from_max_range(d_max=geyser_distance, R=R, g=g)\n",
    "print(f\"Launch Velocity: {v0}\")\n",
    "\n",
    "delta_v_hop_geyser = hop_equations.hop_delta_v(v0=v0)\n",
    "print(f\"Required Delta-V: {delta_v_hop_geyser}\")\n",
    "\n",
    "v_tilde = hop_equations.launch_relative_velocity(v0=v0, R=R, g=g).decompose()\n",
    "print(v_tilde)\n",
    "angle = hop_equations.optimum_launch_angle(v_tilde)\n",
    "print(f\"Launch Angle: {angle}\")\n",
    "\n",
    "max_height = hop_equations.max_height(v0=v0, theta=angle, g=g, v_tilde=v_tilde)\n",
    "print(f\"Max Height: {max_height}\")\n",
    "\n",
    "# time = hop_equations.time_of_flight(v0=v0, theta=angle, g=g, v_tilde=v_tilde)\n",
    "# print(f\"Flight Time: {time}\")\n",
    "\n"
   ]
  },
  {
   "cell_type": "markdown",
   "metadata": {},
   "source": [
    "## Hop (Stripe-to-Stripe)"
   ]
  },
  {
   "cell_type": "code",
   "execution_count": 24,
   "metadata": {},
   "outputs": [],
   "source": [
    "# Example usage\n",
    "num_hops = 20  # Number of hops\n",
    "delta_v_descent = 1500  # m/s\n",
    "delta_v_hop = 500  # m/s for each hop\n",
    "delta_v_ascent = 2000  # m/s\n",
    "dry_mass = 1000  # kg\n",
    "I_sp = 300  # s\n",
    "fuel_margin=100 #kg\n",
    "\n",
    "data = orbit_equations.generate_fuel_operations_table(num_hops, delta_v_descent, delta_v_hop, delta_v_ascent, dry_mass, fuel_margin, I_sp)\n",
    "data.to_csv('fuel_budget.csv', index=False)"
   ]
  }
 ],
 "metadata": {
  "kernelspec": {
   "display_name": ".venv",
   "language": "python",
   "name": "python3"
  },
  "language_info": {
   "codemirror_mode": {
    "name": "ipython",
    "version": 3
   },
   "file_extension": ".py",
   "mimetype": "text/x-python",
   "name": "python",
   "nbconvert_exporter": "python",
   "pygments_lexer": "ipython3",
   "version": "3.11.5"
  }
 },
 "nbformat": 4,
 "nbformat_minor": 2
}

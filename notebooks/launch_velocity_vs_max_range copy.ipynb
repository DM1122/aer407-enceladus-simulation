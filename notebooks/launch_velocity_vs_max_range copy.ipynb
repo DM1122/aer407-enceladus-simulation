{
 "cells": [
  {
   "cell_type": "markdown",
   "metadata": {},
   "source": [
    "# Launch Velocity vs Max Range"
   ]
  },
  {
   "cell_type": "code",
   "execution_count": 1,
   "metadata": {},
   "outputs": [],
   "source": [
    "import plotly.graph_objects as go\n",
    "import numpy as np\n",
    "from astropy import units as u\n",
    "import plotly.express as px\n",
    "from main import hop_equations as hop"
   ]
  },
  {
   "cell_type": "markdown",
   "metadata": {},
   "source": [
    "## Setup"
   ]
  },
  {
   "cell_type": "code",
   "execution_count": 2,
   "metadata": {},
   "outputs": [],
   "source": [
    "# constants\n",
    "g = 0.113 * u.m / u.s**2    # planetary gravity\n",
    "R = 252.1 * u.km   # planetary radius\n",
    "\n",
    "# parameters\n",
    "max_range = np.linspace(0, 100, 100) * u.km  # max range"
   ]
  },
  {
   "cell_type": "markdown",
   "metadata": {},
   "source": [
    "## Pipeline"
   ]
  },
  {
   "cell_type": "code",
   "execution_count": 3,
   "metadata": {},
   "outputs": [
    {
     "name": "stdout",
     "output_type": "stream",
     "text": [
      "[ 0.         10.67301286 15.07885297 18.44935029 21.28229442 23.77071872\n",
      " 26.0137313  28.07027127 29.9787828  31.76599868 33.45140447 35.04972657\n",
      " 36.5724188  38.02860006 39.42567235 40.76974294 42.06592174 43.31853609\n",
      " 44.53128951 45.70738119 46.84959759 47.96038366 49.04189898 50.09606252\n",
      " 51.12458879 52.12901723 53.11073645 54.07100422 55.01096422 55.93166015\n",
      " 56.83404759 57.71900419 58.58733833 59.43979661 60.27707031 61.09980104\n",
      " 61.90858557 62.70398023 63.4865046  64.25664491 65.01485694 65.7615687\n",
      " 66.49718274 67.22207823 67.93661288 68.64112457 69.33593293 70.02134065\n",
      " 70.69763476 71.36508774 72.02395856 72.67449359 73.31692747 73.95148388\n",
      " 74.57837624 75.19780841 75.80997522 76.41506307 77.01325046 77.60470839\n",
      " 78.18960087 78.76808526 79.3403127  79.90642842 80.46657206 81.02087801\n",
      " 81.56947562 82.11248954 82.6500399  83.18224258 83.70920938 84.23104827\n",
      " 84.74786352 85.25975594 85.76682298 86.26915892 86.76685501 87.25999962\n",
      " 87.74867833 88.2329741  88.71296733 89.18873603 89.66035588 90.12790034\n",
      " 90.59144072 91.05104633 91.50678447 91.95872059 92.40691833 92.85143957\n",
      " 93.29234454 93.72969185 94.16353857 94.59394028 95.0209511  95.44462381\n",
      " 95.86500982 96.28215927 96.69612106 97.10694289] m / s\n"
     ]
    }
   ],
   "source": [
    "v0 = hop.launch_velocity_from_max_range(max_range, R, g).decompose()\n",
    "print(v0)"
   ]
  },
  {
   "cell_type": "markdown",
   "metadata": {},
   "source": [
    "## Plots"
   ]
  },
  {
   "cell_type": "code",
   "execution_count": 4,
   "metadata": {},
   "outputs": [
    {
     "data": {
      "application/vnd.plotly.v1+json": {
       "config": {
        "plotlyServerURL": "https://plot.ly"
       },
       "data": [
        {
         "hovertemplate": "Max Range (km)=%{x}<br>Launch Velocity (m / s)=%{y}<extra></extra>",
         "legendgroup": "",
         "line": {
          "color": "#636efa",
          "dash": "solid"
         },
         "marker": {
          "symbol": "circle"
         },
         "mode": "lines",
         "name": "",
         "orientation": "v",
         "showlegend": false,
         "type": "scatter",
         "x": [
          0,
          1.0101010101010102,
          2.0202020202020203,
          3.0303030303030303,
          4.040404040404041,
          5.050505050505051,
          6.0606060606060606,
          7.070707070707071,
          8.080808080808081,
          9.090909090909092,
          10.101010101010102,
          11.111111111111112,
          12.121212121212121,
          13.131313131313131,
          14.141414141414142,
          15.151515151515152,
          16.161616161616163,
          17.171717171717173,
          18.181818181818183,
          19.191919191919194,
          20.202020202020204,
          21.212121212121215,
          22.222222222222225,
          23.232323232323235,
          24.242424242424242,
          25.252525252525253,
          26.262626262626263,
          27.272727272727273,
          28.282828282828284,
          29.292929292929294,
          30.303030303030305,
          31.313131313131315,
          32.323232323232325,
          33.333333333333336,
          34.343434343434346,
          35.35353535353536,
          36.36363636363637,
          37.37373737373738,
          38.38383838383839,
          39.3939393939394,
          40.40404040404041,
          41.41414141414142,
          42.42424242424243,
          43.43434343434344,
          44.44444444444445,
          45.45454545454546,
          46.46464646464647,
          47.47474747474748,
          48.484848484848484,
          49.494949494949495,
          50.505050505050505,
          51.515151515151516,
          52.525252525252526,
          53.535353535353536,
          54.54545454545455,
          55.55555555555556,
          56.56565656565657,
          57.57575757575758,
          58.58585858585859,
          59.5959595959596,
          60.60606060606061,
          61.61616161616162,
          62.62626262626263,
          63.63636363636364,
          64.64646464646465,
          65.65656565656566,
          66.66666666666667,
          67.67676767676768,
          68.68686868686869,
          69.6969696969697,
          70.70707070707071,
          71.71717171717172,
          72.72727272727273,
          73.73737373737374,
          74.74747474747475,
          75.75757575757576,
          76.76767676767678,
          77.77777777777779,
          78.7878787878788,
          79.7979797979798,
          80.80808080808082,
          81.81818181818183,
          82.82828282828284,
          83.83838383838385,
          84.84848484848486,
          85.85858585858587,
          86.86868686868688,
          87.87878787878789,
          88.8888888888889,
          89.89898989898991,
          90.90909090909092,
          91.91919191919193,
          92.92929292929294,
          93.93939393939395,
          94.94949494949496,
          95.95959595959597,
          96.96969696969697,
          97.97979797979798,
          98.98989898989899,
          100
         ],
         "xaxis": "x",
         "y": [
          0,
          10.673012856158136,
          15.078852970144336,
          18.449350294267084,
          21.28229442215096,
          23.77071872236319,
          26.013731299954554,
          28.07027127347934,
          29.97878280184012,
          31.765998683835285,
          33.451404467130466,
          35.04972656975518,
          36.57241879908869,
          38.02860006280449,
          39.42567234843856,
          40.769742939647564,
          42.06592173779911,
          43.318536092372504,
          44.531289509311904,
          45.707381186615905,
          46.849597588714616,
          47.960383664593465,
          49.0418989841024,
          50.09606252363395,
          51.12458878785873,
          52.12901723328106,
          53.110736452890436,
          54.07100421958607,
          55.01096422407976,
          55.93166015062187,
          56.83404759089537,
          57.71900418889811,
          58.58733832792822,
          59.43979660809005,
          60.27707031418632,
          61.09980103594483,
          61.90858557267777,
          62.703980230797995,
          63.48650460370877,
          64.25664490838184,
          65.01485694064226,
          65.76156870117072,
          66.4971827360475,
          67.22207822892582,
          67.9366128763552,
          68.64112457315075,
          69.33593293084542,
          70.02134064902884,
          70.69763475665603,
          71.36508773811124,
          72.02395855686332,
          72.67449358789212,
          73.31692746864884,
          73.95148387710154,
          74.57837624437485,
          75.19780840859468,
          75.80997521577282,
          76.41506307289295,
          77.01325045777531,
          77.60470838978704,
          78.18960086502014,
          78.76808525916952,
          79.34031270100056,
          79.90642841899536,
          80.46657206350108,
          81.02087800646906,
          81.56947562066634,
          82.11248954005681,
          82.65003990288554,
          83.18224257885417,
          83.70920938164579,
          84.23104826794075,
          84.74786352396197,
          85.25975594049432,
          85.76682297723984,
          86.26915891729448,
          86.76685501246537,
          87.2599996200857,
          87.74867833192957,
          88.23297409577945,
          88.71296733015302,
          89.18873603265635,
          89.66035588239197,
          90.12790033681765,
          90.59144072342,
          91.05104632654013,
          91.50678446966131,
          91.95872059344754,
          92.40691832979829,
          92.85143957216681,
          93.29234454237036,
          93.72969185410525,
          94.163538573364,
          94.59394027593758,
          95.0209511021744,
          95.44462380915441,
          95.86500982042674,
          96.28215927344937,
          96.69612106485957,
          97.10694289369607
         ],
         "yaxis": "y"
        }
       ],
       "layout": {
        "height": 1000,
        "legend": {
         "tracegroupgap": 0
        },
        "margin": {
         "t": 60
        },
        "template": {
         "data": {
          "bar": [
           {
            "error_x": {
             "color": "#2a3f5f"
            },
            "error_y": {
             "color": "#2a3f5f"
            },
            "marker": {
             "line": {
              "color": "#E5ECF6",
              "width": 0.5
             },
             "pattern": {
              "fillmode": "overlay",
              "size": 10,
              "solidity": 0.2
             }
            },
            "type": "bar"
           }
          ],
          "barpolar": [
           {
            "marker": {
             "line": {
              "color": "#E5ECF6",
              "width": 0.5
             },
             "pattern": {
              "fillmode": "overlay",
              "size": 10,
              "solidity": 0.2
             }
            },
            "type": "barpolar"
           }
          ],
          "carpet": [
           {
            "aaxis": {
             "endlinecolor": "#2a3f5f",
             "gridcolor": "white",
             "linecolor": "white",
             "minorgridcolor": "white",
             "startlinecolor": "#2a3f5f"
            },
            "baxis": {
             "endlinecolor": "#2a3f5f",
             "gridcolor": "white",
             "linecolor": "white",
             "minorgridcolor": "white",
             "startlinecolor": "#2a3f5f"
            },
            "type": "carpet"
           }
          ],
          "choropleth": [
           {
            "colorbar": {
             "outlinewidth": 0,
             "ticks": ""
            },
            "type": "choropleth"
           }
          ],
          "contour": [
           {
            "colorbar": {
             "outlinewidth": 0,
             "ticks": ""
            },
            "colorscale": [
             [
              0,
              "#0d0887"
             ],
             [
              0.1111111111111111,
              "#46039f"
             ],
             [
              0.2222222222222222,
              "#7201a8"
             ],
             [
              0.3333333333333333,
              "#9c179e"
             ],
             [
              0.4444444444444444,
              "#bd3786"
             ],
             [
              0.5555555555555556,
              "#d8576b"
             ],
             [
              0.6666666666666666,
              "#ed7953"
             ],
             [
              0.7777777777777778,
              "#fb9f3a"
             ],
             [
              0.8888888888888888,
              "#fdca26"
             ],
             [
              1,
              "#f0f921"
             ]
            ],
            "type": "contour"
           }
          ],
          "contourcarpet": [
           {
            "colorbar": {
             "outlinewidth": 0,
             "ticks": ""
            },
            "type": "contourcarpet"
           }
          ],
          "heatmap": [
           {
            "colorbar": {
             "outlinewidth": 0,
             "ticks": ""
            },
            "colorscale": [
             [
              0,
              "#0d0887"
             ],
             [
              0.1111111111111111,
              "#46039f"
             ],
             [
              0.2222222222222222,
              "#7201a8"
             ],
             [
              0.3333333333333333,
              "#9c179e"
             ],
             [
              0.4444444444444444,
              "#bd3786"
             ],
             [
              0.5555555555555556,
              "#d8576b"
             ],
             [
              0.6666666666666666,
              "#ed7953"
             ],
             [
              0.7777777777777778,
              "#fb9f3a"
             ],
             [
              0.8888888888888888,
              "#fdca26"
             ],
             [
              1,
              "#f0f921"
             ]
            ],
            "type": "heatmap"
           }
          ],
          "heatmapgl": [
           {
            "colorbar": {
             "outlinewidth": 0,
             "ticks": ""
            },
            "colorscale": [
             [
              0,
              "#0d0887"
             ],
             [
              0.1111111111111111,
              "#46039f"
             ],
             [
              0.2222222222222222,
              "#7201a8"
             ],
             [
              0.3333333333333333,
              "#9c179e"
             ],
             [
              0.4444444444444444,
              "#bd3786"
             ],
             [
              0.5555555555555556,
              "#d8576b"
             ],
             [
              0.6666666666666666,
              "#ed7953"
             ],
             [
              0.7777777777777778,
              "#fb9f3a"
             ],
             [
              0.8888888888888888,
              "#fdca26"
             ],
             [
              1,
              "#f0f921"
             ]
            ],
            "type": "heatmapgl"
           }
          ],
          "histogram": [
           {
            "marker": {
             "pattern": {
              "fillmode": "overlay",
              "size": 10,
              "solidity": 0.2
             }
            },
            "type": "histogram"
           }
          ],
          "histogram2d": [
           {
            "colorbar": {
             "outlinewidth": 0,
             "ticks": ""
            },
            "colorscale": [
             [
              0,
              "#0d0887"
             ],
             [
              0.1111111111111111,
              "#46039f"
             ],
             [
              0.2222222222222222,
              "#7201a8"
             ],
             [
              0.3333333333333333,
              "#9c179e"
             ],
             [
              0.4444444444444444,
              "#bd3786"
             ],
             [
              0.5555555555555556,
              "#d8576b"
             ],
             [
              0.6666666666666666,
              "#ed7953"
             ],
             [
              0.7777777777777778,
              "#fb9f3a"
             ],
             [
              0.8888888888888888,
              "#fdca26"
             ],
             [
              1,
              "#f0f921"
             ]
            ],
            "type": "histogram2d"
           }
          ],
          "histogram2dcontour": [
           {
            "colorbar": {
             "outlinewidth": 0,
             "ticks": ""
            },
            "colorscale": [
             [
              0,
              "#0d0887"
             ],
             [
              0.1111111111111111,
              "#46039f"
             ],
             [
              0.2222222222222222,
              "#7201a8"
             ],
             [
              0.3333333333333333,
              "#9c179e"
             ],
             [
              0.4444444444444444,
              "#bd3786"
             ],
             [
              0.5555555555555556,
              "#d8576b"
             ],
             [
              0.6666666666666666,
              "#ed7953"
             ],
             [
              0.7777777777777778,
              "#fb9f3a"
             ],
             [
              0.8888888888888888,
              "#fdca26"
             ],
             [
              1,
              "#f0f921"
             ]
            ],
            "type": "histogram2dcontour"
           }
          ],
          "mesh3d": [
           {
            "colorbar": {
             "outlinewidth": 0,
             "ticks": ""
            },
            "type": "mesh3d"
           }
          ],
          "parcoords": [
           {
            "line": {
             "colorbar": {
              "outlinewidth": 0,
              "ticks": ""
             }
            },
            "type": "parcoords"
           }
          ],
          "pie": [
           {
            "automargin": true,
            "type": "pie"
           }
          ],
          "scatter": [
           {
            "fillpattern": {
             "fillmode": "overlay",
             "size": 10,
             "solidity": 0.2
            },
            "type": "scatter"
           }
          ],
          "scatter3d": [
           {
            "line": {
             "colorbar": {
              "outlinewidth": 0,
              "ticks": ""
             }
            },
            "marker": {
             "colorbar": {
              "outlinewidth": 0,
              "ticks": ""
             }
            },
            "type": "scatter3d"
           }
          ],
          "scattercarpet": [
           {
            "marker": {
             "colorbar": {
              "outlinewidth": 0,
              "ticks": ""
             }
            },
            "type": "scattercarpet"
           }
          ],
          "scattergeo": [
           {
            "marker": {
             "colorbar": {
              "outlinewidth": 0,
              "ticks": ""
             }
            },
            "type": "scattergeo"
           }
          ],
          "scattergl": [
           {
            "marker": {
             "colorbar": {
              "outlinewidth": 0,
              "ticks": ""
             }
            },
            "type": "scattergl"
           }
          ],
          "scattermapbox": [
           {
            "marker": {
             "colorbar": {
              "outlinewidth": 0,
              "ticks": ""
             }
            },
            "type": "scattermapbox"
           }
          ],
          "scatterpolar": [
           {
            "marker": {
             "colorbar": {
              "outlinewidth": 0,
              "ticks": ""
             }
            },
            "type": "scatterpolar"
           }
          ],
          "scatterpolargl": [
           {
            "marker": {
             "colorbar": {
              "outlinewidth": 0,
              "ticks": ""
             }
            },
            "type": "scatterpolargl"
           }
          ],
          "scatterternary": [
           {
            "marker": {
             "colorbar": {
              "outlinewidth": 0,
              "ticks": ""
             }
            },
            "type": "scatterternary"
           }
          ],
          "surface": [
           {
            "colorbar": {
             "outlinewidth": 0,
             "ticks": ""
            },
            "colorscale": [
             [
              0,
              "#0d0887"
             ],
             [
              0.1111111111111111,
              "#46039f"
             ],
             [
              0.2222222222222222,
              "#7201a8"
             ],
             [
              0.3333333333333333,
              "#9c179e"
             ],
             [
              0.4444444444444444,
              "#bd3786"
             ],
             [
              0.5555555555555556,
              "#d8576b"
             ],
             [
              0.6666666666666666,
              "#ed7953"
             ],
             [
              0.7777777777777778,
              "#fb9f3a"
             ],
             [
              0.8888888888888888,
              "#fdca26"
             ],
             [
              1,
              "#f0f921"
             ]
            ],
            "type": "surface"
           }
          ],
          "table": [
           {
            "cells": {
             "fill": {
              "color": "#EBF0F8"
             },
             "line": {
              "color": "white"
             }
            },
            "header": {
             "fill": {
              "color": "#C8D4E3"
             },
             "line": {
              "color": "white"
             }
            },
            "type": "table"
           }
          ]
         },
         "layout": {
          "annotationdefaults": {
           "arrowcolor": "#2a3f5f",
           "arrowhead": 0,
           "arrowwidth": 1
          },
          "autotypenumbers": "strict",
          "coloraxis": {
           "colorbar": {
            "outlinewidth": 0,
            "ticks": ""
           }
          },
          "colorscale": {
           "diverging": [
            [
             0,
             "#8e0152"
            ],
            [
             0.1,
             "#c51b7d"
            ],
            [
             0.2,
             "#de77ae"
            ],
            [
             0.3,
             "#f1b6da"
            ],
            [
             0.4,
             "#fde0ef"
            ],
            [
             0.5,
             "#f7f7f7"
            ],
            [
             0.6,
             "#e6f5d0"
            ],
            [
             0.7,
             "#b8e186"
            ],
            [
             0.8,
             "#7fbc41"
            ],
            [
             0.9,
             "#4d9221"
            ],
            [
             1,
             "#276419"
            ]
           ],
           "sequential": [
            [
             0,
             "#0d0887"
            ],
            [
             0.1111111111111111,
             "#46039f"
            ],
            [
             0.2222222222222222,
             "#7201a8"
            ],
            [
             0.3333333333333333,
             "#9c179e"
            ],
            [
             0.4444444444444444,
             "#bd3786"
            ],
            [
             0.5555555555555556,
             "#d8576b"
            ],
            [
             0.6666666666666666,
             "#ed7953"
            ],
            [
             0.7777777777777778,
             "#fb9f3a"
            ],
            [
             0.8888888888888888,
             "#fdca26"
            ],
            [
             1,
             "#f0f921"
            ]
           ],
           "sequentialminus": [
            [
             0,
             "#0d0887"
            ],
            [
             0.1111111111111111,
             "#46039f"
            ],
            [
             0.2222222222222222,
             "#7201a8"
            ],
            [
             0.3333333333333333,
             "#9c179e"
            ],
            [
             0.4444444444444444,
             "#bd3786"
            ],
            [
             0.5555555555555556,
             "#d8576b"
            ],
            [
             0.6666666666666666,
             "#ed7953"
            ],
            [
             0.7777777777777778,
             "#fb9f3a"
            ],
            [
             0.8888888888888888,
             "#fdca26"
            ],
            [
             1,
             "#f0f921"
            ]
           ]
          },
          "colorway": [
           "#636efa",
           "#EF553B",
           "#00cc96",
           "#ab63fa",
           "#FFA15A",
           "#19d3f3",
           "#FF6692",
           "#B6E880",
           "#FF97FF",
           "#FECB52"
          ],
          "font": {
           "color": "#2a3f5f"
          },
          "geo": {
           "bgcolor": "white",
           "lakecolor": "white",
           "landcolor": "#E5ECF6",
           "showlakes": true,
           "showland": true,
           "subunitcolor": "white"
          },
          "hoverlabel": {
           "align": "left"
          },
          "hovermode": "closest",
          "mapbox": {
           "style": "light"
          },
          "paper_bgcolor": "white",
          "plot_bgcolor": "#E5ECF6",
          "polar": {
           "angularaxis": {
            "gridcolor": "white",
            "linecolor": "white",
            "ticks": ""
           },
           "bgcolor": "#E5ECF6",
           "radialaxis": {
            "gridcolor": "white",
            "linecolor": "white",
            "ticks": ""
           }
          },
          "scene": {
           "xaxis": {
            "backgroundcolor": "#E5ECF6",
            "gridcolor": "white",
            "gridwidth": 2,
            "linecolor": "white",
            "showbackground": true,
            "ticks": "",
            "zerolinecolor": "white"
           },
           "yaxis": {
            "backgroundcolor": "#E5ECF6",
            "gridcolor": "white",
            "gridwidth": 2,
            "linecolor": "white",
            "showbackground": true,
            "ticks": "",
            "zerolinecolor": "white"
           },
           "zaxis": {
            "backgroundcolor": "#E5ECF6",
            "gridcolor": "white",
            "gridwidth": 2,
            "linecolor": "white",
            "showbackground": true,
            "ticks": "",
            "zerolinecolor": "white"
           }
          },
          "shapedefaults": {
           "line": {
            "color": "#2a3f5f"
           }
          },
          "ternary": {
           "aaxis": {
            "gridcolor": "white",
            "linecolor": "white",
            "ticks": ""
           },
           "baxis": {
            "gridcolor": "white",
            "linecolor": "white",
            "ticks": ""
           },
           "bgcolor": "#E5ECF6",
           "caxis": {
            "gridcolor": "white",
            "linecolor": "white",
            "ticks": ""
           }
          },
          "title": {
           "x": 0.05
          },
          "xaxis": {
           "automargin": true,
           "gridcolor": "white",
           "linecolor": "white",
           "ticks": "",
           "title": {
            "standoff": 15
           },
           "zerolinecolor": "white",
           "zerolinewidth": 2
          },
          "yaxis": {
           "automargin": true,
           "gridcolor": "white",
           "linecolor": "white",
           "ticks": "",
           "title": {
            "standoff": 15
           },
           "zerolinecolor": "white",
           "zerolinewidth": 2
          }
         }
        },
        "width": 1000,
        "xaxis": {
         "anchor": "y",
         "domain": [
          0,
          1
         ],
         "title": {
          "text": "Max Range (km)"
         }
        },
        "yaxis": {
         "anchor": "x",
         "domain": [
          0,
          1
         ],
         "title": {
          "text": "Launch Velocity (m / s)"
         }
        }
       }
      }
     },
     "metadata": {},
     "output_type": "display_data"
    }
   ],
   "source": [
    "fig = px.line(x=max_range, y=v0, labels={\"x\":f\"Max Range ({max_range.unit})\", \"y\":f\"Launch Velocity ({v0.unit})\"})\n",
    "fig.update_layout(width=1000, height=1000)\n",
    "fig.show()"
   ]
  }
 ],
 "metadata": {
  "kernelspec": {
   "display_name": "Python 3",
   "language": "python",
   "name": "python3"
  },
  "language_info": {
   "codemirror_mode": {
    "name": "ipython",
    "version": 3
   },
   "file_extension": ".py",
   "mimetype": "text/x-python",
   "name": "python",
   "nbconvert_exporter": "python",
   "pygments_lexer": "ipython3",
   "version": "3.11.5"
  }
 },
 "nbformat": 4,
 "nbformat_minor": 2
}

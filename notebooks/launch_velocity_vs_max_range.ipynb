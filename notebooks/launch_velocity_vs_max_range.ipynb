{
 "cells": [
  {
   "cell_type": "markdown",
   "metadata": {},
   "source": [
    "# Launch Velocity vs Max Range"
   ]
  },
  {
   "cell_type": "code",
   "execution_count": 1,
   "metadata": {},
   "outputs": [],
   "source": [
    "import plotly.graph_objects as go\n",
    "import numpy as np\n",
    "from astropy import units as u\n",
    "import plotly.express as px\n",
    "from main import hop_equations as hop"
   ]
  },
  {
   "cell_type": "markdown",
   "metadata": {},
   "source": [
    "## Setup"
   ]
  },
  {
   "cell_type": "code",
   "execution_count": 2,
   "metadata": {},
   "outputs": [],
   "source": [
    "# constants\n",
    "g = 0.113 * u.m / u.s**2    # planetary gravity\n",
    "R = 252.1 * u.km   # planetary radius\n",
    "\n",
    "# parameters\n",
    "max_range = np.linspace(0, 100, 100) * u.km  # max range"
   ]
  },
  {
   "cell_type": "markdown",
   "metadata": {},
   "source": [
    "## Pipeline"
   ]
  },
  {
   "cell_type": "code",
   "execution_count": null,
   "metadata": {},
   "outputs": [],
   "source": []
  },
  {
   "cell_type": "code",
   "execution_count": 5,
   "metadata": {},
   "outputs": [
    {
     "name": "stdout",
     "output_type": "stream",
     "text": [
      "66.91166331167163 m / s\n",
      "0.396438825911462\n",
      "0.7427044935924247 rad2\n"
     ]
    },
    {
     "ename": "UnitConversionError",
     "evalue": "'rad2' (solid angle) and 'deg' (angle) are not convertible",
     "output_type": "error",
     "traceback": [
      "\u001b[1;31m---------------------------------------------------------------------------\u001b[0m",
      "\u001b[1;31mUnitConversionError\u001b[0m                       Traceback (most recent call last)",
      "\u001b[1;32mc:\\Users\\DMara\\GitHub\\aer407-enceladus-simulation\\notebooks\\launch_velocity_vs_max_range.ipynb Cell 7\u001b[0m line \u001b[0;36m5\n\u001b[0;32m      <a href='vscode-notebook-cell:/c%3A/Users/DMara/GitHub/aer407-enceladus-simulation/notebooks/launch_velocity_vs_max_range.ipynb#W5sZmlsZQ%3D%3D?line=2'>3</a>\u001b[0m v_tilde \u001b[39m=\u001b[39m hop\u001b[39m.\u001b[39mlaunch_relative_velocity(v0, R, g)\u001b[39m.\u001b[39mdecompose()\n\u001b[0;32m      <a href='vscode-notebook-cell:/c%3A/Users/DMara/GitHub/aer407-enceladus-simulation/notebooks/launch_velocity_vs_max_range.ipynb#W5sZmlsZQ%3D%3D?line=3'>4</a>\u001b[0m \u001b[39mprint\u001b[39m(v_tilde)\n\u001b[1;32m----> <a href='vscode-notebook-cell:/c%3A/Users/DMara/GitHub/aer407-enceladus-simulation/notebooks/launch_velocity_vs_max_range.ipynb#W5sZmlsZQ%3D%3D?line=4'>5</a>\u001b[0m theta \u001b[39m=\u001b[39m hop\u001b[39m.\u001b[39;49moptimum_launch_angle(v_tilde)\n\u001b[0;32m      <a href='vscode-notebook-cell:/c%3A/Users/DMara/GitHub/aer407-enceladus-simulation/notebooks/launch_velocity_vs_max_range.ipynb#W5sZmlsZQ%3D%3D?line=5'>6</a>\u001b[0m \u001b[39mprint\u001b[39m(theta)\n",
      "File \u001b[1;32m~\\GitHub\\aer407-enceladus-simulation\\main\\hop_equations.py:84\u001b[0m, in \u001b[0;36moptimum_launch_angle\u001b[1;34m(v_tilde)\u001b[0m\n\u001b[0;32m     81\u001b[0m theta \u001b[39m=\u001b[39m \u001b[39m0.5\u001b[39m \u001b[39m*\u001b[39m np\u001b[39m.\u001b[39marccos(v_tilde\u001b[39m*\u001b[39m\u001b[39m*\u001b[39m\u001b[39m2\u001b[39m \u001b[39m/\u001b[39m (\u001b[39m2\u001b[39m \u001b[39m-\u001b[39m v_tilde\u001b[39m*\u001b[39m\u001b[39m*\u001b[39m\u001b[39m2\u001b[39m)) \u001b[39m*\u001b[39m u\u001b[39m.\u001b[39mrad\n\u001b[0;32m     82\u001b[0m \u001b[39mprint\u001b[39m(theta)\n\u001b[1;32m---> 84\u001b[0m \u001b[39mreturn\u001b[39;00m theta\u001b[39m.\u001b[39;49mto(u\u001b[39m.\u001b[39;49mdeg)\n",
      "File \u001b[1;32mc:\\Users\\DMara\\GitHub\\aer407-enceladus-simulation\\.venv\\Lib\\site-packages\\astropy\\units\\quantity.py:938\u001b[0m, in \u001b[0;36mQuantity.to\u001b[1;34m(self, unit, equivalencies, copy)\u001b[0m\n\u001b[0;32m    934\u001b[0m unit \u001b[39m=\u001b[39m Unit(unit)\n\u001b[0;32m    935\u001b[0m \u001b[39mif\u001b[39;00m copy:\n\u001b[0;32m    936\u001b[0m     \u001b[39m# Avoid using to_value to ensure that we make a copy. We also\u001b[39;00m\n\u001b[0;32m    937\u001b[0m     \u001b[39m# don't want to slow down this method (esp. the scalar case).\u001b[39;00m\n\u001b[1;32m--> 938\u001b[0m     value \u001b[39m=\u001b[39m \u001b[39mself\u001b[39;49m\u001b[39m.\u001b[39;49m_to_value(unit, equivalencies)\n\u001b[0;32m    939\u001b[0m \u001b[39melse\u001b[39;00m:\n\u001b[0;32m    940\u001b[0m     \u001b[39m# to_value only copies if necessary\u001b[39;00m\n\u001b[0;32m    941\u001b[0m     value \u001b[39m=\u001b[39m \u001b[39mself\u001b[39m\u001b[39m.\u001b[39mto_value(unit, equivalencies)\n",
      "File \u001b[1;32mc:\\Users\\DMara\\GitHub\\aer407-enceladus-simulation\\.venv\\Lib\\site-packages\\astropy\\units\\quantity.py:891\u001b[0m, in \u001b[0;36mQuantity._to_value\u001b[1;34m(self, unit, equivalencies)\u001b[0m\n\u001b[0;32m    888\u001b[0m     equivalencies \u001b[39m=\u001b[39m \u001b[39mself\u001b[39m\u001b[39m.\u001b[39m_equivalencies\n\u001b[0;32m    889\u001b[0m \u001b[39mif\u001b[39;00m \u001b[39mnot\u001b[39;00m \u001b[39mself\u001b[39m\u001b[39m.\u001b[39mdtype\u001b[39m.\u001b[39mnames \u001b[39mor\u001b[39;00m \u001b[39misinstance\u001b[39m(\u001b[39mself\u001b[39m\u001b[39m.\u001b[39munit, StructuredUnit):\n\u001b[0;32m    890\u001b[0m     \u001b[39m# Standard path, let unit to do work.\u001b[39;00m\n\u001b[1;32m--> 891\u001b[0m     \u001b[39mreturn\u001b[39;00m \u001b[39mself\u001b[39;49m\u001b[39m.\u001b[39;49munit\u001b[39m.\u001b[39;49mto(\n\u001b[0;32m    892\u001b[0m         unit, \u001b[39mself\u001b[39;49m\u001b[39m.\u001b[39;49mview(np\u001b[39m.\u001b[39;49mndarray), equivalencies\u001b[39m=\u001b[39;49mequivalencies\n\u001b[0;32m    893\u001b[0m     )\n\u001b[0;32m    895\u001b[0m \u001b[39melse\u001b[39;00m:\n\u001b[0;32m    896\u001b[0m     \u001b[39m# The .to() method of a simple unit cannot convert a structured\u001b[39;00m\n\u001b[0;32m    897\u001b[0m     \u001b[39m# dtype, so we work around it, by recursing.\u001b[39;00m\n\u001b[0;32m    898\u001b[0m     \u001b[39m# TODO: deprecate this?\u001b[39;00m\n\u001b[0;32m    899\u001b[0m     \u001b[39m# Convert simple to Structured on initialization?\u001b[39;00m\n\u001b[0;32m    900\u001b[0m     result \u001b[39m=\u001b[39m np\u001b[39m.\u001b[39mempty_like(\u001b[39mself\u001b[39m\u001b[39m.\u001b[39mview(np\u001b[39m.\u001b[39mndarray))\n",
      "File \u001b[1;32mc:\\Users\\DMara\\GitHub\\aer407-enceladus-simulation\\.venv\\Lib\\site-packages\\astropy\\units\\core.py:1195\u001b[0m, in \u001b[0;36mUnitBase.to\u001b[1;34m(self, other, value, equivalencies)\u001b[0m\n\u001b[0;32m   1193\u001b[0m     \u001b[39mreturn\u001b[39;00m UNITY\n\u001b[0;32m   1194\u001b[0m \u001b[39melse\u001b[39;00m:\n\u001b[1;32m-> 1195\u001b[0m     \u001b[39mreturn\u001b[39;00m \u001b[39mself\u001b[39;49m\u001b[39m.\u001b[39;49m_get_converter(Unit(other), equivalencies)(value)\n",
      "File \u001b[1;32mc:\\Users\\DMara\\GitHub\\aer407-enceladus-simulation\\.venv\\Lib\\site-packages\\astropy\\units\\core.py:1124\u001b[0m, in \u001b[0;36mUnitBase._get_converter\u001b[1;34m(self, other, equivalencies)\u001b[0m\n\u001b[0;32m   1121\u001b[0m             \u001b[39melse\u001b[39;00m:\n\u001b[0;32m   1122\u001b[0m                 \u001b[39mreturn\u001b[39;00m \u001b[39mlambda\u001b[39;00m v: b(converter(v))\n\u001b[1;32m-> 1124\u001b[0m \u001b[39mraise\u001b[39;00m exc\n",
      "File \u001b[1;32mc:\\Users\\DMara\\GitHub\\aer407-enceladus-simulation\\.venv\\Lib\\site-packages\\astropy\\units\\core.py:1107\u001b[0m, in \u001b[0;36mUnitBase._get_converter\u001b[1;34m(self, other, equivalencies)\u001b[0m\n\u001b[0;32m   1105\u001b[0m \u001b[39m# if that doesn't work, maybe we can do it with equivalencies?\u001b[39;00m\n\u001b[0;32m   1106\u001b[0m \u001b[39mtry\u001b[39;00m:\n\u001b[1;32m-> 1107\u001b[0m     \u001b[39mreturn\u001b[39;00m \u001b[39mself\u001b[39;49m\u001b[39m.\u001b[39;49m_apply_equivalencies(\n\u001b[0;32m   1108\u001b[0m         \u001b[39mself\u001b[39;49m, other, \u001b[39mself\u001b[39;49m\u001b[39m.\u001b[39;49m_normalize_equivalencies(equivalencies)\n\u001b[0;32m   1109\u001b[0m     )\n\u001b[0;32m   1110\u001b[0m \u001b[39mexcept\u001b[39;00m UnitsError \u001b[39mas\u001b[39;00m exc:\n\u001b[0;32m   1111\u001b[0m     \u001b[39m# Last hope: maybe other knows how to do it?\u001b[39;00m\n\u001b[0;32m   1112\u001b[0m     \u001b[39m# We assume the equivalencies have the unit itself as first item.\u001b[39;00m\n\u001b[0;32m   1113\u001b[0m     \u001b[39m# TODO: maybe better for other to have a `_back_converter` method?\u001b[39;00m\n\u001b[0;32m   1114\u001b[0m     \u001b[39mif\u001b[39;00m \u001b[39mhasattr\u001b[39m(other, \u001b[39m\"\u001b[39m\u001b[39mequivalencies\u001b[39m\u001b[39m\"\u001b[39m):\n",
      "File \u001b[1;32mc:\\Users\\DMara\\GitHub\\aer407-enceladus-simulation\\.venv\\Lib\\site-packages\\astropy\\units\\core.py:1085\u001b[0m, in \u001b[0;36mUnitBase._apply_equivalencies\u001b[1;34m(self, unit, other, equivalencies)\u001b[0m\n\u001b[0;32m   1082\u001b[0m unit_str \u001b[39m=\u001b[39m get_err_str(unit)\n\u001b[0;32m   1083\u001b[0m other_str \u001b[39m=\u001b[39m get_err_str(other)\n\u001b[1;32m-> 1085\u001b[0m \u001b[39mraise\u001b[39;00m UnitConversionError(\u001b[39mf\u001b[39m\u001b[39m\"\u001b[39m\u001b[39m{\u001b[39;00munit_str\u001b[39m}\u001b[39;00m\u001b[39m and \u001b[39m\u001b[39m{\u001b[39;00mother_str\u001b[39m}\u001b[39;00m\u001b[39m are not convertible\u001b[39m\u001b[39m\"\u001b[39m)\n",
      "\u001b[1;31mUnitConversionError\u001b[0m: 'rad2' (solid angle) and 'deg' (angle) are not convertible"
     ]
    }
   ],
   "source": [
    "v0 = hop.launch_velocity_from_max_range(43*u.km, R, g).decompose()\n",
    "print(v0)\n",
    "v_tilde = hop.launch_relative_velocity(v0, R, g).decompose()\n",
    "print(v_tilde)\n",
    "theta = hop.optimum_launch_angle(v_tilde)\n",
    "print(theta)"
   ]
  },
  {
   "cell_type": "markdown",
   "metadata": {},
   "source": [
    "## Plots"
   ]
  },
  {
   "cell_type": "code",
   "execution_count": null,
   "metadata": {},
   "outputs": [],
   "source": [
    "fig = px.line(x=max_range, y=v0, labels={\"x\":f\"Max Range ({max_range.unit})\", \"y\":f\"Launch Velocity ({v0.unit})\"})\n",
    "fig.update_layout(width=1000, height=1000)\n",
    "fig.show()"
   ]
  }
 ],
 "metadata": {
  "kernelspec": {
   "display_name": "Python 3",
   "language": "python",
   "name": "python3"
  },
  "language_info": {
   "codemirror_mode": {
    "name": "ipython",
    "version": 3
   },
   "file_extension": ".py",
   "mimetype": "text/x-python",
   "name": "python",
   "nbconvert_exporter": "python",
   "pygments_lexer": "ipython3",
   "version": "3.11.5"
  }
 },
 "nbformat": 4,
 "nbformat_minor": 2
}
